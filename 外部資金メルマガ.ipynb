{
  "nbformat": 4,
  "nbformat_minor": 0,
  "metadata": {
    "colab": {
      "name": "外部資金メルマガ.ipynb",
      "provenance": [],
      "mount_file_id": "1s5EzDqiu3uAO0IueqyGspuhHRzCE31L4",
      "authorship_tag": "ABX9TyNY5DRcdMwKX/Ze0y1R29xv",
      "include_colab_link": true
    },
    "kernelspec": {
      "name": "python3",
      "display_name": "Python 3"
    }
  },
  "cells": [
    {
      "cell_type": "markdown",
      "metadata": {
        "id": "view-in-github",
        "colab_type": "text"
      },
      "source": [
        "<a href=\"https://colab.research.google.com/github/takayuki1997/Mail-magazine/blob/master/%E5%A4%96%E9%83%A8%E8%B3%87%E9%87%91%E3%83%A1%E3%83%AB%E3%83%9E%E3%82%AC.ipynb\" target=\"_parent\"><img src=\"https://colab.research.google.com/assets/colab-badge.svg\" alt=\"Open In Colab\"/></a>"
      ]
    },
    {
      "cell_type": "markdown",
      "metadata": {
        "id": "qHiMQCxOQcMh",
        "colab_type": "text"
      },
      "source": [
        "# 福島大学研究振興課　外部資金メルマガ文面作成プログラム\n",
        "送信予定のデータだけを抽出したエクセルファイルを読み込み、メール文面用のテキストを書き出します。\n",
        "\n",
        "## 注意点\n",
        "* エクセルファイルは11列\n",
        "* 1行目はヘッダー行（ID,事業主名（財団名）,〆切日,分野,応募要件,予算規模,その他の情報,URL,掲載済み,「文理」）\n",
        "* 〆切日のフォーマットは　m/d\n",
        "\n"
      ]
    },
    {
      "cell_type": "code",
      "metadata": {
        "id": "tQv5-wWWARqU",
        "colab_type": "code",
        "colab": {}
      },
      "source": [
        "import pandas as pd\n",
        "\n",
        "fnameR = '/content/drive/My Drive/外部資金メルマガ/Vol17.xlsx'\n",
        "#fnameR = '/content/drive/My Drive/外部資金メルマガ/サンプル.xlsx'\n",
        "sname = 'Sheet1'\n",
        "\n",
        "header = '''教員の皆様\n",
        "\n",
        "こんにちは。研究振興課です。\n",
        "助成金などの外部資金に関する情報をお届け致します！\n",
        "\n",
        "その他、過去の公募情報等については下記「研究・産学連携」HPもご覧下さい。\n",
        "↓↓↓↓↓↓↓↓↓↓↓\n",
        "http://gakujyutu.net.fukushima-u.ac.jp/002_kenkyuzyosei/index.html\n",
        "\n",
        "～～～～～～～～～～～～～～～～～～～～～～～～～～～～～～～～～\n",
        "今回の公募情報コンテンツ'''\n",
        "\n",
        "footer = '''～～～～～～～～～～～～～～～～～～～～～～～～～～～～～～～～～\n",
        "\n",
        "公益財団法人助成財団センターHPにも様々な情報が掲載されています。\n",
        "↓↓↓↓↓↓↓↓↓↓↓\n",
        "http://www.jfc.or.jp/\n",
        "\n",
        "外部資金獲得に関するご相談は随時受け付けております。お気軽にご相談下さい。\n",
        "'''\n",
        "\n",
        "\n",
        "# =====================================================================\n",
        "\n",
        "df = pd.read_excel(fnameR, sheet_name=sname, header=0)\n",
        "num = len(df)\n",
        "\n",
        "df = df.sort_values('〆切日')\n",
        "\n",
        "# =====================================================================\n",
        "\n",
        "print(header)\n",
        "\n",
        "for m in range(num):\n",
        "  print('%2d. <%s> %s（%s 〆切）' % (m+1, df.iat[m,10], df.iat[m,1], df.iat[m,3].strftime('%-m/%-d')))\n",
        "\n",
        "print('～～～～～～～～～～～～～～～～～～～～～～～～～～～～～～～～～\\n')\n",
        "\n",
        "# =====================================================================\n",
        "\n",
        "for m in range(num):\n",
        "  if type(df.iat[m,5]) is not str:\n",
        "    df.iat[m,5] = ' 特になし'\n",
        "\n",
        "  print('%2d．【事業主名】%s' % (m+1, df.iat[m,1]))\n",
        "  print('　　【〆切】%s' % df.iat[m,3].strftime('%-m/%-d'))\n",
        "  print('　　【募集分野】%s' % df.iat[m,4])\n",
        "  print('　　【応募条件等】%s' % df.iat[m,5])\n",
        "  print('　　【予算規模】%s' % df.iat[m,6])\n",
        "  if type(df.iat[m,7]) is str:\n",
        "    print('　　【その他】%s' % df.iat[m,7])\n",
        "  print('　　%s\\n' % df.iat[m,8])\n",
        "\n",
        "# =====================================================================\n",
        "\n",
        "print(footer)\n"
      ],
      "execution_count": 0,
      "outputs": []
    }
  ]
}